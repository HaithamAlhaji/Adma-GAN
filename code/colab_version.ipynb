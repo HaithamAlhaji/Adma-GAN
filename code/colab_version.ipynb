{
 "cells": [
  {
   "cell_type": "code",
   "execution_count": null,
   "metadata": {},
   "outputs": [],
   "source": [
    "!git clone https://github.com/HaithamAlhaji/Adma-GAN.git\n",
    "%cd /content/Adma-GAN\n",
    "!gdown -O CUB_200_2011.zip --id 1SDVUxKbfFCp9gkYsXqzTa_fl-hFk68eK\n",
    "!unzip -oq CUB_200_2011.zip\n",
    "!mkdir data\n",
    "!mv CUB_200_2011 data/\n",
    "!pip install omegaconf\n",
    "!pip install numpy==1.21.6"
   ]
  },
  {
   "cell_type": "code",
   "execution_count": null,
   "metadata": {},
   "outputs": [],
   "source": [
    "%cd /content/Adma-GAN\n",
    "!git fetch --all\n",
    "!git reset --hard origin/HEAD\n",
    "!python code/train.py --config=code/cfg/bird.yml"
   ]
  }
 ],
 "metadata": {
  "language_info": {
   "name": "python"
  }
 },
 "nbformat": 4,
 "nbformat_minor": 2
}
